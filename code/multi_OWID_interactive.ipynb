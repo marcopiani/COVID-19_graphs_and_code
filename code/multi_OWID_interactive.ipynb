{
 "cells": [
  {
   "cell_type": "code",
   "execution_count": 26,
   "id": "68c24f85-598d-4e9a-8e6b-7a98e63d8237",
   "metadata": {},
   "outputs": [],
   "source": [
    "import pandas as pd\n",
    "import matplotlib.pyplot as plt\n",
    "from ipywidgets import interactive\n",
    "from ipywidgets.embed import embed_minimal_html\n",
    "from ipywidgets.embed import embed_data"
   ]
  },
  {
   "cell_type": "code",
   "execution_count": 27,
   "id": "abeb3db9-4fd6-4772-9928-11128f35c761",
   "metadata": {},
   "outputs": [],
   "source": [
    "plt.rcParams[\"figure.figsize\"]= (10,7)\n",
    "# full_data_address = \"E:/Data_repository/Covid/covid-19-data/public/data/owid-covid-data.csv\"\n",
    "# full_data = pd.read_csv(full_data_address, parse_dates = ['date'])\n",
    "full_data_address = \"https://covid.ourworldindata.org/data/owid-covid-data.csv\"\n",
    "full_data_df = pd.read_csv(full_data_address,parse_dates = ['date'])"
   ]
  },
  {
   "cell_type": "code",
   "execution_count": 28,
   "id": "fc89954c-5efb-4757-9a2d-5e84faba6088",
   "metadata": {},
   "outputs": [],
   "source": [
    "parameters = [None]\n",
    "parameters.extend(list(full_data.columns[4:]))"
   ]
  },
  {
   "cell_type": "code",
   "execution_count": 29,
   "id": "59e1008a-bdc6-46ae-89ce-018f8dbd47f4",
   "metadata": {},
   "outputs": [],
   "source": [
    "locations = [None]\n",
    "locations.extend(list(full_data.location.unique()))"
   ]
  },
  {
   "cell_type": "code",
   "execution_count": 30,
   "id": "f4246825-7b45-4e31-8c7a-edd88d31a235",
   "metadata": {},
   "outputs": [
    {
     "data": {
      "application/vnd.jupyter.widget-view+json": {
       "model_id": "9a66526541d54f24a791f1b336747d25",
       "version_major": 2,
       "version_minor": 0
      },
      "text/plain": [
       "interactive(children=(Dropdown(description='location', options=(None, 'Afghanistan', 'Africa', 'Albania', 'Alg…"
      ]
     },
     "metadata": {},
     "output_type": "display_data"
    }
   ],
   "source": [
    "def g(location,main_series,**kwargs):\n",
    "    df_to_plot = full_data[full_data.location==location].iloc[:,3:].set_index(\"date\")\n",
    "    if main_series is not None:\n",
    "        df_to_plot[main_series].plot(legend = True, title = location,\n",
    "                                  ylabel = main_series+\"\\n(other time series are rescaled to max of this)\")\n",
    "    for key, value in kwargs.items():\n",
    "        if value is not None:\n",
    "            (df_to_plot[value]*(df_to_plot[main_series].max())/(df_to_plot[value].max())).plot(legend = True)\n",
    "    plt.grid()\n",
    "    plt.show()\n",
    "interactive_plot = interactive(\n",
    "    g, location = locations, main_series = parameters,\n",
    "    second_series = parameters, third_series = parameters)\n",
    "interactive_plot"
   ]
  },
  {
   "cell_type": "code",
   "execution_count": null,
   "id": "855086ec-d964-4cf2-a1cb-aad743a2d99c",
   "metadata": {},
   "outputs": [],
   "source": []
  }
 ],
 "metadata": {
  "kernelspec": {
   "display_name": "Python 3 (ipykernel)",
   "language": "python",
   "name": "python3"
  },
  "language_info": {
   "codemirror_mode": {
    "name": "ipython",
    "version": 3
   },
   "file_extension": ".py",
   "mimetype": "text/x-python",
   "name": "python",
   "nbconvert_exporter": "python",
   "pygments_lexer": "ipython3",
   "version": "3.8.12"
  }
 },
 "nbformat": 4,
 "nbformat_minor": 5
}
